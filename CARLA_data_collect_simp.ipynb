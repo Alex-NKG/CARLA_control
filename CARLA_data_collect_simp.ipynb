{
 "cells": [
  {
   "cell_type": "code",
   "execution_count": 1,
   "metadata": {},
   "outputs": [],
   "source": [
    "import carla\n",
    "import random\n",
    "import time\n",
    "import numpy as np\n",
    "import queue\n",
    "import cv2\n",
    "\n"
   ]
  },
  {
   "cell_type": "code",
   "execution_count": 2,
   "metadata": {},
   "outputs": [],
   "source": [
    "# Connect to the client and retrieve the world object\n",
    "client = carla.Client('localhost', 2000)\n",
    "client.set_timeout(2.0)\n",
    "world = client.get_world()\n"
   ]
  },
  {
   "cell_type": "code",
   "execution_count": 3,
   "metadata": {},
   "outputs": [
    {
     "name": "stderr",
     "output_type": "stream",
     "text": [
      "WARNING: synchronous mode enabled with variable delta seconds. It is highly recommended to set 'fixed_delta_seconds' when running on synchronous mode. \n"
     ]
    }
   ],
   "source": [
    "settings = world.get_settings()\n",
    "settings.synchronous_mode = True\n",
    "world.apply_settings(settings)\n",
    "settings.fixed_delta_seconds = 0.04"
   ]
  },
  {
   "cell_type": "code",
   "execution_count": 4,
   "metadata": {},
   "outputs": [],
   "source": [
    "# Load layered map for Town 01 with minimum layout\n",
    "world = client.load_world('Town02_Opt')\n",
    "world.unload_map_layer(carla.MapLayer.ParkedVehicles)\n",
    "blueprint_library = world.get_blueprint_library()"
   ]
  },
  {
   "cell_type": "code",
   "execution_count": 5,
   "metadata": {},
   "outputs": [],
   "source": [
    "world.set_weather(carla.WeatherParameters.ClearNoon)"
   ]
  },
  {
   "cell_type": "code",
   "execution_count": 6,
   "metadata": {},
   "outputs": [],
   "source": [
    "target_vehicle_bp = blueprint_library.find('vehicle.mercedes.coupe_2020')\n",
    "agent_vehicle_bp = blueprint_library.find('vehicle.mini.cooper_s')"
   ]
  },
  {
   "cell_type": "code",
   "execution_count": 7,
   "metadata": {},
   "outputs": [],
   "source": [
    "# 找到所有可以作为初始点的位置并随机选择一个\n",
    "transform1 = random.choice(world.get_map().get_spawn_points())\n",
    "transform2 = random.choice(world.get_map().get_spawn_points())\n",
    "\n",
    "# 在这个位置生成汽车\n",
    "target_vehicle_bp = world.spawn_actor(target_vehicle_bp, transform1)\n",
    "agent_vehicle_bp = world.spawn_actor(agent_vehicle_bp, transform2)\n",
    "\n",
    "# 把它设置成自动驾驶模式\n",
    "target_vehicle_bp .set_autopilot(True)\n",
    "agent_vehicle_bp .set_autopilot(True)"
   ]
  },
  {
   "cell_type": "code",
   "execution_count": 8,
   "metadata": {},
   "outputs": [],
   "source": [
    "rgb_camera_bp = world.get_blueprint_library().find('sensor.camera.rgb')\n",
    "rgb_camera_bp.set_attribute('image_size_x', '1920')\n",
    "rgb_camera_bp.set_attribute('image_size_y', '1080')\n",
    "rgb_camera_bp.set_attribute('fov', '110')\n",
    "# Set the time in seconds between sensor captures\n",
    "rgb_camera_bp.set_attribute('sensor_tick', '0.1')"
   ]
  },
  {
   "cell_type": "code",
   "execution_count": 9,
   "metadata": {},
   "outputs": [],
   "source": [
    "depth_camera_bp = world.get_blueprint_library().find('sensor.camera.depth')\n",
    "depth_camera_bp.set_attribute('image_size_x', '1920')\n",
    "depth_camera_bp.set_attribute('image_size_y', '1080')\n",
    "depth_camera_bp.set_attribute('fov', '110')\n",
    "# Set the time in seconds between sensor captures\n",
    "depth_camera_bp.set_attribute('sensor_tick', '0.1')"
   ]
  },
  {
   "cell_type": "code",
   "execution_count": 10,
   "metadata": {},
   "outputs": [],
   "source": [
    "segmentation_camera_bp = world.get_blueprint_library().find('sensor.camera.semantic_segmentation')\n",
    "segmentation_camera_bp.set_attribute('image_size_x', '1920')\n",
    "segmentation_camera_bp.set_attribute('image_size_y', '1080')\n",
    "segmentation_camera_bp.set_attribute('fov', '110')\n",
    "# Set the time in seconds between sensor captures\n",
    "segmentation_camera_bp.set_attribute('sensor_tick', '0.1')"
   ]
  },
  {
   "cell_type": "code",
   "execution_count": 11,
   "metadata": {},
   "outputs": [],
   "source": [
    "camera_transform = carla.Transform(carla.Location(x=1.5, z=2.4))\n",
    "rgb_camera = world.spawn_actor(rgb_camera_bp, camera_transform, attach_to=agent_vehicle_bp, attachment_type=carla.AttachmentType.Rigid)\n",
    "image_queue = queue.Queue()\n",
    "rgb_camera.listen(image_queue.put)\n",
    "\n",
    "\n",
    "depth_camera = world.spawn_actor(depth_camera_bp, camera_transform, attach_to=agent_vehicle_bp, attachment_type=carla.AttachmentType.Rigid)\n",
    "image_queue_depth = queue.Queue()\n",
    "depth_camera.listen(image_queue_depth.put)\n",
    "\n",
    "\n",
    "segmentation_camera = world.spawn_actor(segmentation_camera_bp, camera_transform, attach_to=agent_vehicle_bp, attachment_type=carla.AttachmentType.Rigid)\n",
    "image_queue_seg = queue.Queue()\n",
    "segmentation_camera.listen(image_queue_seg.put)"
   ]
  },
  {
   "cell_type": "code",
   "execution_count": 12,
   "metadata": {},
   "outputs": [],
   "source": [
    "def get_mask(seg_im, rgb_value):\n",
    "    # rgb_value should be somethiing like np.uint8([[[70, 70, 70]]])\n",
    "    # seg_im should be in HSV\n",
    "    \n",
    "    hsv_value = cv2.cvtColor(rgb_value, cv2.COLOR_RGB2HSV)\n",
    "    \n",
    "    hsv_low = np.array([[[hsv_value[0][0][0]-5, hsv_value[0][0][1], hsv_value[0][0][2]-5]]])\n",
    "    hsv_high = np.array([[[hsv_value[0][0][0]+5, hsv_value[0][0][1], hsv_value[0][0][2]+5]]])\n",
    "    \n",
    "    mask = cv2.inRange(seg_im, hsv_low, hsv_high)\n",
    "    return mask.any()\n",
    "object_list = dict()\n",
    "object_list['car'] = np.uint8([[[ 0, 0, 142]]])\n"
   ]
  },
  {
   "cell_type": "code",
   "execution_count": 13,
   "metadata": {},
   "outputs": [
    {
     "ename": "",
     "evalue": "",
     "output_type": "error",
     "traceback": [
      "\u001b[1;31mCanceled future for execute_request message before replies were done"
     ]
    },
    {
     "ename": "",
     "evalue": "",
     "output_type": "error",
     "traceback": [
      "\u001b[1;31m在当前单元格或上一个单元格中执行代码时 Kernel 崩溃。请查看单元格中的代码，以确定故障的可能原因。有关详细信息，请单击 <a href='https://aka.ms/vscodeJupyterKernelCrash'>此处</a>。有关更多详细信息，请查看 Jupyter <a href='command:jupyter.viewOutput'>log</a>。"
     ]
    }
   ],
   "source": [
    "while True:\n",
    "    world.tick()\n",
    "    image = image_queue.get()\n",
    "    #semantic segmentation camera\n",
    "    image_seg  = image_queue_seg.get()\n",
    "    #depth camera\n",
    "    image_depth = image_queue_depth.get()\n",
    "    # Convert the image to BGR2HSV\n",
    "    image_seg.convert(carla.ColorConverter.CityScapesPalette)\n",
    "    img_semseg_hsv = cv2.cvtColor(np.array(image_seg.raw_data).reshape((1080, 1920, 4)), cv2.COLOR_BGR2HSV)\n",
    "    if get_mask(img_semseg_hsv, object_list['car']):\n",
    "        image.save_to_disk(\"/mnt/sda1/carla/fov/%06d.png\" %(image.frame))\n",
    "        image_seg.save_to_disk(\"/mnt/sda1/carla/seg/%06d_semseg.png\" %(image.frame), carla.ColorConverter.CityScapesPalette)\n",
    "        image_depth.save_to_disk(\"/mnt/sda1/carla/dep/%06d_depth.png\" %(image.frame), carla.ColorConverter.LogarithmicDepth)\n"
   ]
  },
  {
   "cell_type": "code",
   "execution_count": null,
   "metadata": {},
   "outputs": [],
   "source": []
  }
 ],
 "metadata": {
  "kernelspec": {
   "display_name": "carla",
   "language": "python",
   "name": "python3"
  },
  "language_info": {
   "codemirror_mode": {
    "name": "ipython",
    "version": 3
   },
   "file_extension": ".py",
   "mimetype": "text/x-python",
   "name": "python",
   "nbconvert_exporter": "python",
   "pygments_lexer": "ipython3",
   "version": "3.7.15"
  },
  "orig_nbformat": 4,
  "vscode": {
   "interpreter": {
    "hash": "2cb2d11bbe015fbfdc0b3f4f54f564dcf3857fca217205f930a84ab76a55edb6"
   }
  }
 },
 "nbformat": 4,
 "nbformat_minor": 2
}
